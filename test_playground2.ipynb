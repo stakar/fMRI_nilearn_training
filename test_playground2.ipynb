{
 "cells": [
  {
   "cell_type": "markdown",
   "id": "067598bb",
   "metadata": {},
   "source": [
    "# Playground for MVPA\n",
    "\n",
    "Testing and trying to set up MVPA analysis using data from own fMRI experiment."
   ]
  },
  {
   "cell_type": "code",
   "execution_count": 52,
   "id": "c89c1803",
   "metadata": {},
   "outputs": [
    {
     "name": "stdout",
     "output_type": "stream",
     "text": [
      "Output will be saved to: C:\\Users\\skarkosz\\Desktop\\test_nilearn\\results\\plot_two_runs_model\n"
     ]
    }
   ],
   "source": [
    "from pathlib import Path\n",
    "from tools import get_events\n",
    "from nilearn import plotting, image\n",
    "from nilearn.glm.first_level import FirstLevelModel, make_first_level_design_matrix\n",
    "import scipy.io as sio\n",
    "import numpy as np\n",
    "import pylab\n",
    "import nibabel as nb\n",
    "import os\n",
    "import numpy as np\n",
    "import pandas as pd\n",
    "import matplotlib.pyplot as plt\n",
    "\n",
    "output_dir = Path.cwd() / \"results\" / \"plot_two_runs_model\"\n",
    "output_dir.mkdir(exist_ok=True, parents=True)\n",
    "print(f\"Output will be saved to: {output_dir}\")"
   ]
  },
  {
   "cell_type": "code",
   "execution_count": 53,
   "id": "26ef41d1",
   "metadata": {},
   "outputs": [],
   "source": [
    "# Loading exemplary subject\n",
    "img_run1 = nb.load(\"sub-B045/ses-1/func/sub-B045_ses-1_task-fmri_run-01_space-MNI152NLin2009cAsym_desc-preproc_bold.nii.gz\")\n",
    "img_run2 = nb.load(\"sub-B045/ses-1/func/sub-B045_ses-1_task-fmri_run-02_space-MNI152NLin2009cAsym_desc-preproc_bold.nii.gz\")\n",
    "fmri_imgs = [img_run1,img_run2]\n",
    "t1 = nb.load(\"sub-B045/anat/sub-B045_space-MNI152NLin2009cAsym_desc-preproc_T1w.nii.gz\")\n"
   ]
  },
  {
   "cell_type": "code",
   "execution_count": 54,
   "id": "d10825c1",
   "metadata": {},
   "outputs": [],
   "source": [
    "# Preparing list of stimuli\n",
    "events_1 = get_events(\"trigger/sub-B045/ses-1/sub-B045_ses-1_Run1.mat\")\n",
    "events_2 = get_events(\"trigger/sub-B045/ses-1/sub-B045_ses-1_Run2.mat\")"
   ]
  },
  {
   "cell_type": "code",
   "execution_count": 55,
   "id": "c8f81099",
   "metadata": {},
   "outputs": [],
   "source": [
    "fmri_glm = FirstLevelModel(t_r=2,\n",
    "                standardize=False,\n",
    "                hrf_model='spm',\n",
    "                drift_model='cosine',\n",
    "                high_pass=0.01)"
   ]
  },
  {
   "cell_type": "code",
   "execution_count": 56,
   "id": "b0cdb4a9",
   "metadata": {},
   "outputs": [],
   "source": [
    "# Fitting First Level model\n",
    "fst_lvl = fmri_glm.fit(fmri_imgs,events=[events_1,events_2])"
   ]
  },
  {
   "cell_type": "code",
   "execution_count": 57,
   "id": "51f10580",
   "metadata": {},
   "outputs": [
    {
     "name": "stdout",
     "output_type": "stream",
     "text": [
      "Matrices have shapes: (400, 19), (529, 25)\n"
     ]
    }
   ],
   "source": [
    "#Checking size of desing matrices\n",
    "matrices = fst_lvl.design_matrices_\n",
    "print(f\"Matrices have shapes: {matrices[0].shape}, {matrices[1].shape}\")"
   ]
  },
  {
   "cell_type": "code",
   "execution_count": 59,
   "id": "f93aceb0",
   "metadata": {},
   "outputs": [
    {
     "name": "stdout",
     "output_type": "stream",
     "text": [
      "Computing contrasts...\n",
      "  Contrast 01 out of 3: Crit\n"
     ]
    },
    {
     "name": "stderr",
     "output_type": "stream",
     "text": [
      "<ipython-input-59-b5b93df7d9cd>:11: UserWarning: One contrast given, assuming it for all 2 runs\n",
      "  z_map = fmri_glm.compute_contrast(contrast_val, output_type=\"z_score\")\n"
     ]
    },
    {
     "name": "stdout",
     "output_type": "stream",
     "text": [
      "  Contrast 02 out of 3: Neut\n",
      "  Contrast 03 out of 3: CritNeut\n"
     ]
    }
   ],
   "source": [
    "# Testing contrasts\n",
    "contrasts = {'Crit':np.array([[0.5,0]]),\n",
    "            'Neut':np.array([[0,0.5]]),\n",
    "            'CritNeut':np.array([[0.5,-0.5]])}\n",
    "\n",
    "\n",
    "print(\"Computing contrasts...\")\n",
    "for index, (contrast_id, contrast_val) in enumerate(contrasts.items()):\n",
    "    print(f\"  Contrast {index + 1:02g} out of {len(contrasts)}: {contrast_id}\")\n",
    "    # Estimate the contasts.\n",
    "    z_map = fmri_glm.compute_contrast(contrast_val, output_type=\"z_score\")\n",
    "\n",
    "    # Write the resulting stat images to file.\n",
    "    z_image_path = output_dir / f\"{contrast_id}_z_map.nii.gz\"\n",
    "    z_map.to_filename(z_image_path)\n",
    "    \n"
   ]
  },
  {
   "cell_type": "code",
   "execution_count": null,
   "id": "2cb592d3",
   "metadata": {},
   "outputs": [
    {
     "name": "stderr",
     "output_type": "stream",
     "text": [
      "C:\\Users\\skarkosz\\Anaconda3\\lib\\site-packages\\nilearn\\reporting\\glm_reporter.py:384: UserWarning: Contrasts will be padded with 17 column(s) of zeros.\n",
      "  contrast_plot = plot_contrast_matrix(\n",
      "C:\\Users\\skarkosz\\Anaconda3\\lib\\site-packages\\nilearn\\reporting\\glm_reporter.py:384: UserWarning: Contrasts will be padded with 23 column(s) of zeros.\n",
      "  contrast_plot = plot_contrast_matrix(\n",
      "C:\\Users\\skarkosz\\Anaconda3\\lib\\site-packages\\nilearn\\reporting\\glm_reporter.py:541: UserWarning: One contrast given, assuming it for all 2 runs\n",
      "  contrast_id: model.compute_contrast(\n",
      "C:\\Users\\skarkosz\\Anaconda3\\lib\\site-packages\\nilearn\\glm\\contrasts.py:108: UserWarning: t contrasts should be of length P=19, but it has length 2. The rest of the contrast was padded with zeros.\n",
      "  reg = regression_result[label_].Tcontrast(con_val)\n",
      "C:\\Users\\skarkosz\\Anaconda3\\lib\\site-packages\\nilearn\\glm\\contrasts.py:108: UserWarning: t contrasts should be of length P=25, but it has length 2. The rest of the contrast was padded with zeros.\n",
      "  reg = regression_result[label_].Tcontrast(con_val)\n"
     ]
    }
   ],
   "source": [
    "# Testing reporting\n",
    "report = fmri_glm.generate_report(\n",
    "    contrasts,\n",
    "    bg_img=t1,\n",
    "    title=\"two-runs fMRI model fitting\",\n",
    ")\n",
    "statistics = fst_lvl.compute_contrast(contrasts['CritNeut'],\n",
    "                                      output_type=\"all\")\n",
    "plotting.plot_stat_map(statistics['z_score'],\n",
    "                       bg_img=t1,\n",
    "                       threshold=3,\n",
    "                       draw_cross=False)\n",
    "report  # This report can be viewed in a notebook\n",
    "# report.open_in_browser()\n",
    "\n",
    "# or we can save as an html file\n",
    "# from pathlib import Path\n",
    "output_dir = Path.cwd() / \"results\" / \"plot_two_runs\"\n",
    "output_dir.mkdir(exist_ok=True, parents=True)\n",
    "report.save_as_html(output_dir / 'report.html')"
   ]
  },
  {
   "cell_type": "code",
   "execution_count": null,
   "id": "bf711925",
   "metadata": {},
   "outputs": [],
   "source": [
    "# Preparing flow for each subject\n",
    "directories_list = [n for n in os.listdir() if n.startswith('sub')]\n",
    "for subject in directories_list:\n",
    "    fmri_glm = FirstLevelModel(t_r=2,\n",
    "                    standardize=False,\n",
    "                    hrf_model='spm',\n",
    "                    drift_model='cosine',\n",
    "                    high_pass=0.01)\n",
    "\n",
    "\n",
    "    img_run1 = nb.load(f\"{subject}/ses-1/func/{subject}_ses-1_task-fmri_run-01_space-MNI152NLin2009cAsym_desc-preproc_bold.nii.gz\")\n",
    "    img_run2 = nb.load(f\"{subject}/ses-1/func/{subject}_ses-1_task-fmri_run-02_space-MNI152NLin2009cAsym_desc-preproc_bold.nii.gz\")\n",
    "    fmri_imgs = [img_run1,img_run2]\n",
    "    t1 = nb.load(\"sub-B045/anat/sub-B045_space-MNI152NLin2009cAsym_desc-preproc_T1w.nii.gz\")\n",
    "\n",
    "    events_1 = get_events(f\"trigger/{subject}/ses-1/{subject}_ses-1_Run1.mat\")\n",
    "    events_2 = get_events(f\"trigger/{subject}/ses-1/{subject}_ses-1_Run2.mat\")\n",
    "\n",
    "    fst_lvl = fmri_glm.fit(fmri_imgs,events=[events_1,events_2])\n",
    "    matrices = fst_lvl.design_matrices_\n",
    "    print(f\"Matrices have shapes: {matrices[0].shape}, {matrices[1].shape}\")\n",
    "    report = fmri_glm.generate_report(\n",
    "        contrasts,\n",
    "        bg_img=t1,\n",
    "        title=\"two-runs fMRI model fitting\",\n",
    "    )\n",
    "\n",
    "    output_dir = Path.cwd() / \"results\" / \"plot_two_runs\"\n",
    "    output_dir.mkdir(exist_ok=True, parents=True)\n",
    "    report.save_as_html(output_dir / f'{subject}_report.html')\n",
    "\n",
    "    contrasts = {'Crit':np.array([[0.5,0]]),\n",
    "                'Neut':np.array([[0,0.5]]),\n",
    "                'CritNeut':np.array([[0.5,-0.5]])}\n",
    "\n",
    "\n",
    "    print(\"Computing contrasts...\")\n",
    "    for index, (contrast_id, contrast_val) in enumerate(contrasts.items()):\n",
    "        print(f\"  Contrast {index + 1:02g} out of {len(contrasts)}: {contrast_id}\")\n",
    "        # Estimate the contasts.\n",
    "        z_map = fmri_glm.compute_contrast(contrast_val, output_type=\"z_score\")\n",
    "\n",
    "        # Write the resulting stat images to file.\n",
    "        z_image_path = output_dir / f\"{contrast_id}_{subject}_z_map.nii.gz\"\n",
    "        z_map.to_filename(z_image_path)"
   ]
  },
  {
   "cell_type": "markdown",
   "id": "527d1a3d",
   "metadata": {},
   "source": [
    "# Second-level analysis"
   ]
  },
  {
   "cell_type": "code",
   "execution_count": null,
   "id": "c2064def",
   "metadata": {},
   "outputs": [],
   "source": [
    "from nilearn.glm.second_level import make_second_level_design_matrix, SecondLevelModel\n",
    "design_matrix2nd = make_second_level_design_matrix(directories_list)\n",
    "def get_1stlvl(subject_list,contrst_id='crit'):\n",
    "    res = []\n",
    "    for subject in subject_list:\n",
    "        res.append(nb.load(f\"results/plot_two_runs/{contrast_id}_{subject}_z_map.nii.gz\"))\n",
    "    return res\n",
    "\n",
    "snd_lvl = SecondLevelModel()\n",
    "snd_lvl.fit(get_1stlvl(directories_list,'crit'),\n",
    "            design_matrix=design_matrix2nd)\n"
   ]
  },
  {
   "cell_type": "markdown",
   "id": "e31528b4",
   "metadata": {},
   "source": [
    "# Testing MVPA"
   ]
  },
  {
   "cell_type": "code",
   "execution_count": null,
   "id": "1b58820c",
   "metadata": {},
   "outputs": [],
   "source": [
    "directories_list\n",
    "def get_images(subject_list):\n",
    "    for subject in subject_list:\n",
    "        for run in [1,2]:\n",
    "            yield nb.load(f\"{subject}/ses-1/func/{subject}_ses-1_task-fmri_run-0{run}_space-MNI152NLin2009cAsym_desc-preproc_bold.nii.gz\")\n",
    "        \n",
    "def get_events_generator(subject_list):\n",
    "    for subject in subject_list:\n",
    "        for run in [1,2]:\n",
    "            yield get_events(f\"trigger/{subject}/ses-1/{subject}_ses-1_Run{run}.mat\")"
   ]
  },
  {
   "cell_type": "code",
   "execution_count": null,
   "id": "9ee724ff",
   "metadata": {},
   "outputs": [],
   "source": [
    "imgs= get_images(directories_list)\n",
    "evts= get_events_generator(directories_list)"
   ]
  },
  {
   "cell_type": "code",
   "execution_count": null,
   "id": "446ea150",
   "metadata": {},
   "outputs": [],
   "source": [
    "from nilearn.decoding import Decoder\n",
    "decoder = Decoder(estimator='svc')"
   ]
  },
  {
   "cell_type": "code",
   "execution_count": 51,
   "id": "212b9d1d",
   "metadata": {},
   "outputs": [],
   "source": [
    "# dec1 = decoder.fit(imgs,evts)"
   ]
  },
  {
   "cell_type": "code",
   "execution_count": null,
   "id": "bfa809e3",
   "metadata": {},
   "outputs": [],
   "source": []
  }
 ],
 "metadata": {
  "kernelspec": {
   "display_name": "Python 3",
   "language": "python",
   "name": "python3"
  },
  "language_info": {
   "codemirror_mode": {
    "name": "ipython",
    "version": 3
   },
   "file_extension": ".py",
   "mimetype": "text/x-python",
   "name": "python",
   "nbconvert_exporter": "python",
   "pygments_lexer": "ipython3",
   "version": "3.8.8"
  }
 },
 "nbformat": 4,
 "nbformat_minor": 5
}
